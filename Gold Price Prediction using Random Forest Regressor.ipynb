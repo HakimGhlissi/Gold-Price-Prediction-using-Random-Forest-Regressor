{
 "cells": [
  {
   "cell_type": "markdown",
   "id": "fcf776dd",
   "metadata": {},
   "source": [
    "<h2> Importing the Librairies </h2> "
   ]
  },
  {
   "cell_type": "code",
   "execution_count": 1,
   "id": "6145faa9",
   "metadata": {},
   "outputs": [],
   "source": [
    "import numpy as np\n",
    "import pandas as pd\n",
    "import matplotlib.pyplot as plt \n",
    "import seaborn as sns\n",
    "from sklearn.model_selection import train_test_split\n",
    "from sklearn.ensemble import RandomForestRegressor\n",
    "from sklearn import metrics"
   ]
  },
  {
   "cell_type": "markdown",
   "id": "7832e35d",
   "metadata": {},
   "source": [
    "<h2> Data Collection and Processing </h2>"
   ]
  },
  {
   "cell_type": "code",
   "execution_count": 2,
   "id": "d8d90cc9",
   "metadata": {},
   "outputs": [],
   "source": [
    "# Loading the csv data to a Pandas DataFrame\n",
    "gold_data = pd.read_csv('C:/Users/hakim/OneDrive/Bureau/ENSI/ML Projects/Gold Price Prediction using Random Forest Regressor/gld_price_data.csv')"
   ]
  },
  {
   "cell_type": "code",
   "execution_count": 3,
   "id": "993370f4",
   "metadata": {},
   "outputs": [
    {
     "data": {
      "text/html": [
       "<div>\n",
       "<style scoped>\n",
       "    .dataframe tbody tr th:only-of-type {\n",
       "        vertical-align: middle;\n",
       "    }\n",
       "\n",
       "    .dataframe tbody tr th {\n",
       "        vertical-align: top;\n",
       "    }\n",
       "\n",
       "    .dataframe thead th {\n",
       "        text-align: right;\n",
       "    }\n",
       "</style>\n",
       "<table border=\"1\" class=\"dataframe\">\n",
       "  <thead>\n",
       "    <tr style=\"text-align: right;\">\n",
       "      <th></th>\n",
       "      <th>Date</th>\n",
       "      <th>SPX</th>\n",
       "      <th>GLD</th>\n",
       "      <th>USO</th>\n",
       "      <th>SLV</th>\n",
       "      <th>EUR/USD</th>\n",
       "    </tr>\n",
       "  </thead>\n",
       "  <tbody>\n",
       "    <tr>\n",
       "      <th>0</th>\n",
       "      <td>1/2/2008</td>\n",
       "      <td>1447.160034</td>\n",
       "      <td>84.860001</td>\n",
       "      <td>78.470001</td>\n",
       "      <td>15.180</td>\n",
       "      <td>1.471692</td>\n",
       "    </tr>\n",
       "    <tr>\n",
       "      <th>1</th>\n",
       "      <td>1/3/2008</td>\n",
       "      <td>1447.160034</td>\n",
       "      <td>85.570000</td>\n",
       "      <td>78.370003</td>\n",
       "      <td>15.285</td>\n",
       "      <td>1.474491</td>\n",
       "    </tr>\n",
       "    <tr>\n",
       "      <th>2</th>\n",
       "      <td>1/4/2008</td>\n",
       "      <td>1411.630005</td>\n",
       "      <td>85.129997</td>\n",
       "      <td>77.309998</td>\n",
       "      <td>15.167</td>\n",
       "      <td>1.475492</td>\n",
       "    </tr>\n",
       "    <tr>\n",
       "      <th>3</th>\n",
       "      <td>1/7/2008</td>\n",
       "      <td>1416.180054</td>\n",
       "      <td>84.769997</td>\n",
       "      <td>75.500000</td>\n",
       "      <td>15.053</td>\n",
       "      <td>1.468299</td>\n",
       "    </tr>\n",
       "    <tr>\n",
       "      <th>4</th>\n",
       "      <td>1/8/2008</td>\n",
       "      <td>1390.189941</td>\n",
       "      <td>86.779999</td>\n",
       "      <td>76.059998</td>\n",
       "      <td>15.590</td>\n",
       "      <td>1.557099</td>\n",
       "    </tr>\n",
       "  </tbody>\n",
       "</table>\n",
       "</div>"
      ],
      "text/plain": [
       "       Date          SPX        GLD        USO     SLV   EUR/USD\n",
       "0  1/2/2008  1447.160034  84.860001  78.470001  15.180  1.471692\n",
       "1  1/3/2008  1447.160034  85.570000  78.370003  15.285  1.474491\n",
       "2  1/4/2008  1411.630005  85.129997  77.309998  15.167  1.475492\n",
       "3  1/7/2008  1416.180054  84.769997  75.500000  15.053  1.468299\n",
       "4  1/8/2008  1390.189941  86.779999  76.059998  15.590  1.557099"
      ]
     },
     "execution_count": 3,
     "metadata": {},
     "output_type": "execute_result"
    }
   ],
   "source": [
    "# Visualising the data\n",
    "# Values Ranging From 1/2/2008 to 5/16/2018 (10 years worth of DATA)\n",
    "gold_data.head()"
   ]
  },
  {
   "cell_type": "code",
   "execution_count": 4,
   "id": "3530cfc3",
   "metadata": {},
   "outputs": [
    {
     "data": {
      "text/html": [
       "<div>\n",
       "<style scoped>\n",
       "    .dataframe tbody tr th:only-of-type {\n",
       "        vertical-align: middle;\n",
       "    }\n",
       "\n",
       "    .dataframe tbody tr th {\n",
       "        vertical-align: top;\n",
       "    }\n",
       "\n",
       "    .dataframe thead th {\n",
       "        text-align: right;\n",
       "    }\n",
       "</style>\n",
       "<table border=\"1\" class=\"dataframe\">\n",
       "  <thead>\n",
       "    <tr style=\"text-align: right;\">\n",
       "      <th></th>\n",
       "      <th>Date</th>\n",
       "      <th>SPX</th>\n",
       "      <th>GLD</th>\n",
       "      <th>USO</th>\n",
       "      <th>SLV</th>\n",
       "      <th>EUR/USD</th>\n",
       "    </tr>\n",
       "  </thead>\n",
       "  <tbody>\n",
       "    <tr>\n",
       "      <th>2285</th>\n",
       "      <td>5/8/2018</td>\n",
       "      <td>2671.919922</td>\n",
       "      <td>124.589996</td>\n",
       "      <td>14.0600</td>\n",
       "      <td>15.5100</td>\n",
       "      <td>1.186789</td>\n",
       "    </tr>\n",
       "    <tr>\n",
       "      <th>2286</th>\n",
       "      <td>5/9/2018</td>\n",
       "      <td>2697.790039</td>\n",
       "      <td>124.330002</td>\n",
       "      <td>14.3700</td>\n",
       "      <td>15.5300</td>\n",
       "      <td>1.184722</td>\n",
       "    </tr>\n",
       "    <tr>\n",
       "      <th>2287</th>\n",
       "      <td>5/10/2018</td>\n",
       "      <td>2723.070068</td>\n",
       "      <td>125.180000</td>\n",
       "      <td>14.4100</td>\n",
       "      <td>15.7400</td>\n",
       "      <td>1.191753</td>\n",
       "    </tr>\n",
       "    <tr>\n",
       "      <th>2288</th>\n",
       "      <td>5/14/2018</td>\n",
       "      <td>2730.129883</td>\n",
       "      <td>124.489998</td>\n",
       "      <td>14.3800</td>\n",
       "      <td>15.5600</td>\n",
       "      <td>1.193118</td>\n",
       "    </tr>\n",
       "    <tr>\n",
       "      <th>2289</th>\n",
       "      <td>5/16/2018</td>\n",
       "      <td>2725.780029</td>\n",
       "      <td>122.543800</td>\n",
       "      <td>14.4058</td>\n",
       "      <td>15.4542</td>\n",
       "      <td>1.182033</td>\n",
       "    </tr>\n",
       "  </tbody>\n",
       "</table>\n",
       "</div>"
      ],
      "text/plain": [
       "           Date          SPX         GLD      USO      SLV   EUR/USD\n",
       "2285   5/8/2018  2671.919922  124.589996  14.0600  15.5100  1.186789\n",
       "2286   5/9/2018  2697.790039  124.330002  14.3700  15.5300  1.184722\n",
       "2287  5/10/2018  2723.070068  125.180000  14.4100  15.7400  1.191753\n",
       "2288  5/14/2018  2730.129883  124.489998  14.3800  15.5600  1.193118\n",
       "2289  5/16/2018  2725.780029  122.543800  14.4058  15.4542  1.182033"
      ]
     },
     "execution_count": 4,
     "metadata": {},
     "output_type": "execute_result"
    }
   ],
   "source": [
    "gold_data.tail()"
   ]
  },
  {
   "cell_type": "code",
   "execution_count": 6,
   "id": "f45f71c3",
   "metadata": {},
   "outputs": [
    {
     "data": {
      "text/plain": [
       "(2290, 6)"
      ]
     },
     "execution_count": 6,
     "metadata": {},
     "output_type": "execute_result"
    }
   ],
   "source": [
    "#Number of rows and columns\n",
    "gold_data.shape"
   ]
  },
  {
   "cell_type": "code",
   "execution_count": 7,
   "id": "941ac122",
   "metadata": {},
   "outputs": [
    {
     "name": "stdout",
     "output_type": "stream",
     "text": [
      "<class 'pandas.core.frame.DataFrame'>\n",
      "RangeIndex: 2290 entries, 0 to 2289\n",
      "Data columns (total 6 columns):\n",
      " #   Column   Non-Null Count  Dtype  \n",
      "---  ------   --------------  -----  \n",
      " 0   Date     2290 non-null   object \n",
      " 1   SPX      2290 non-null   float64\n",
      " 2   GLD      2290 non-null   float64\n",
      " 3   USO      2290 non-null   float64\n",
      " 4   SLV      2290 non-null   float64\n",
      " 5   EUR/USD  2290 non-null   float64\n",
      "dtypes: float64(5), object(1)\n",
      "memory usage: 107.5+ KB\n"
     ]
    }
   ],
   "source": [
    "gold_data.info()"
   ]
  },
  {
   "cell_type": "code",
   "execution_count": 8,
   "id": "edc52e10",
   "metadata": {},
   "outputs": [
    {
     "data": {
      "text/plain": [
       "Date       0\n",
       "SPX        0\n",
       "GLD        0\n",
       "USO        0\n",
       "SLV        0\n",
       "EUR/USD    0\n",
       "dtype: int64"
      ]
     },
     "execution_count": 8,
     "metadata": {},
     "output_type": "execute_result"
    }
   ],
   "source": [
    "# Number of missing values \n",
    "gold_data.isnull().sum()"
   ]
  },
  {
   "cell_type": "code",
   "execution_count": 9,
   "id": "f60fae95",
   "metadata": {},
   "outputs": [
    {
     "data": {
      "text/html": [
       "<div>\n",
       "<style scoped>\n",
       "    .dataframe tbody tr th:only-of-type {\n",
       "        vertical-align: middle;\n",
       "    }\n",
       "\n",
       "    .dataframe tbody tr th {\n",
       "        vertical-align: top;\n",
       "    }\n",
       "\n",
       "    .dataframe thead th {\n",
       "        text-align: right;\n",
       "    }\n",
       "</style>\n",
       "<table border=\"1\" class=\"dataframe\">\n",
       "  <thead>\n",
       "    <tr style=\"text-align: right;\">\n",
       "      <th></th>\n",
       "      <th>SPX</th>\n",
       "      <th>GLD</th>\n",
       "      <th>USO</th>\n",
       "      <th>SLV</th>\n",
       "      <th>EUR/USD</th>\n",
       "    </tr>\n",
       "  </thead>\n",
       "  <tbody>\n",
       "    <tr>\n",
       "      <th>count</th>\n",
       "      <td>2290.000000</td>\n",
       "      <td>2290.000000</td>\n",
       "      <td>2290.000000</td>\n",
       "      <td>2290.000000</td>\n",
       "      <td>2290.000000</td>\n",
       "    </tr>\n",
       "    <tr>\n",
       "      <th>mean</th>\n",
       "      <td>1654.315776</td>\n",
       "      <td>122.732875</td>\n",
       "      <td>31.842221</td>\n",
       "      <td>20.084997</td>\n",
       "      <td>1.283653</td>\n",
       "    </tr>\n",
       "    <tr>\n",
       "      <th>std</th>\n",
       "      <td>519.111540</td>\n",
       "      <td>23.283346</td>\n",
       "      <td>19.523517</td>\n",
       "      <td>7.092566</td>\n",
       "      <td>0.131547</td>\n",
       "    </tr>\n",
       "    <tr>\n",
       "      <th>min</th>\n",
       "      <td>676.530029</td>\n",
       "      <td>70.000000</td>\n",
       "      <td>7.960000</td>\n",
       "      <td>8.850000</td>\n",
       "      <td>1.039047</td>\n",
       "    </tr>\n",
       "    <tr>\n",
       "      <th>25%</th>\n",
       "      <td>1239.874969</td>\n",
       "      <td>109.725000</td>\n",
       "      <td>14.380000</td>\n",
       "      <td>15.570000</td>\n",
       "      <td>1.171313</td>\n",
       "    </tr>\n",
       "    <tr>\n",
       "      <th>50%</th>\n",
       "      <td>1551.434998</td>\n",
       "      <td>120.580002</td>\n",
       "      <td>33.869999</td>\n",
       "      <td>17.268500</td>\n",
       "      <td>1.303297</td>\n",
       "    </tr>\n",
       "    <tr>\n",
       "      <th>75%</th>\n",
       "      <td>2073.010070</td>\n",
       "      <td>132.840004</td>\n",
       "      <td>37.827501</td>\n",
       "      <td>22.882499</td>\n",
       "      <td>1.369971</td>\n",
       "    </tr>\n",
       "    <tr>\n",
       "      <th>max</th>\n",
       "      <td>2872.870117</td>\n",
       "      <td>184.589996</td>\n",
       "      <td>117.480003</td>\n",
       "      <td>47.259998</td>\n",
       "      <td>1.598798</td>\n",
       "    </tr>\n",
       "  </tbody>\n",
       "</table>\n",
       "</div>"
      ],
      "text/plain": [
       "               SPX          GLD          USO          SLV      EUR/USD\n",
       "count  2290.000000  2290.000000  2290.000000  2290.000000  2290.000000\n",
       "mean   1654.315776   122.732875    31.842221    20.084997     1.283653\n",
       "std     519.111540    23.283346    19.523517     7.092566     0.131547\n",
       "min     676.530029    70.000000     7.960000     8.850000     1.039047\n",
       "25%    1239.874969   109.725000    14.380000    15.570000     1.171313\n",
       "50%    1551.434998   120.580002    33.869999    17.268500     1.303297\n",
       "75%    2073.010070   132.840004    37.827501    22.882499     1.369971\n",
       "max    2872.870117   184.589996   117.480003    47.259998     1.598798"
      ]
     },
     "execution_count": 9,
     "metadata": {},
     "output_type": "execute_result"
    }
   ],
   "source": [
    "gold_data.describe()"
   ]
  },
  {
   "cell_type": "markdown",
   "id": "f9ac4047",
   "metadata": {},
   "source": [
    "<dl>\n",
    "<dt>Correlation</dt>\n",
    "<dd>1. Positive Correlation.</dd>\n",
    "<dd>1. Negative Correlation.</dd>\n",
    "</dl>\n",
    "\n",
    "    \n"
   ]
  },
  {
   "cell_type": "code",
   "execution_count": 10,
   "id": "946d2f46",
   "metadata": {},
   "outputs": [],
   "source": [
    "correlation = gold_data.corr()"
   ]
  },
  {
   "cell_type": "code",
   "execution_count": 17,
   "id": "070e38ce",
   "metadata": {},
   "outputs": [
    {
     "data": {
      "text/plain": [
       "<AxesSubplot:>"
      ]
     },
     "execution_count": 17,
     "metadata": {},
     "output_type": "execute_result"
    },
    {
     "data": {
      "image/png": "[encoded data removed]",
      "text/plain": [
       "<Figure size 576x576 with 2 Axes>"
      ]
     },
     "metadata": {
      "needs_background": "light"
     },
     "output_type": "display_data"
    }
   ],
   "source": [
    "#Constructiong a heat map to understand the correlation\n",
    "plt.figure(figsize = (8,8))\n",
    "sns.heatmap(correlation,cbar=True, square=True, fmt='.1f',annot=True, annot_kws={'size':8}, cmap='Blues')"
   ]
  },
  {
   "cell_type": "code",
   "execution_count": 18,
   "id": "770dd1df",
   "metadata": {},
   "outputs": [
    {
     "name": "stdout",
     "output_type": "stream",
     "text": [
      "SPX        0.049345\n",
      "GLD        1.000000\n",
      "USO       -0.186360\n",
      "SLV        0.866632\n",
      "EUR/USD   -0.024375\n",
      "Name: GLD, dtype: float64\n"
     ]
    }
   ],
   "source": [
    "#Correlation values of GLD\n",
    "print(correlation['GLD'])"
   ]
  },
  {
   "cell_type": "code",
   "execution_count": 19,
   "id": "ef618091",
   "metadata": {},
   "outputs": [
    {
     "name": "stderr",
     "output_type": "stream",
     "text": [
      "c:\\users\\hakim\\appdata\\local\\programs\\python\\python39\\lib\\site-packages\\seaborn\\distributions.py:2619: FutureWarning: `distplot` is a deprecated function and will be removed in a future version. Please adapt your code to use either `displot` (a figure-level function with similar flexibility) or `histplot` (an axes-level function for histograms).\n",
      "  warnings.warn(msg, FutureWarning)\n"
     ]
    },
    {
     "data": {
      "text/plain": [
       "<AxesSubplot:xlabel='GLD', ylabel='Density'>"
      ]
     },
     "execution_count": 19,
     "metadata": {},
     "output_type": "execute_result"
    },
    {
     "data": {
      "image/png": "[encoded data removed]",
      "text/plain": [
       "<Figure size 432x288 with 1 Axes>"
      ]
     },
     "metadata": {
      "needs_background": "light"
     },
     "output_type": "display_data"
    }
   ],
   "source": [
    "#Checking the distribution of the GLD price\n",
    "sns.distplot(gold_data['GLD'], color='green')"
   ]
  },
  {
   "cell_type": "markdown",
   "id": "9cf895a3",
   "metadata": {},
   "source": [
    "<h2> Splitting the Features and Target"
   ]
  },
  {
   "cell_type": "code",
   "execution_count": 20,
   "id": "443b9f58",
   "metadata": {},
   "outputs": [],
   "source": [
    "X = gold_data.drop(['Date','GLD'], axis = 1)\n",
    "Y = gold_data['GLD']"
   ]
  },
  {
   "cell_type": "code",
   "execution_count": 22,
   "id": "5154613f",
   "metadata": {},
   "outputs": [
    {
     "name": "stdout",
     "output_type": "stream",
     "text": [
      "              SPX        USO      SLV   EUR/USD\n",
      "0     1447.160034  78.470001  15.1800  1.471692\n",
      "1     1447.160034  78.370003  15.2850  1.474491\n",
      "2     1411.630005  77.309998  15.1670  1.475492\n",
      "3     1416.180054  75.500000  15.0530  1.468299\n",
      "4     1390.189941  76.059998  15.5900  1.557099\n",
      "...           ...        ...      ...       ...\n",
      "2285  2671.919922  14.060000  15.5100  1.186789\n",
      "2286  2697.790039  14.370000  15.5300  1.184722\n",
      "2287  2723.070068  14.410000  15.7400  1.191753\n",
      "2288  2730.129883  14.380000  15.5600  1.193118\n",
      "2289  2725.780029  14.405800  15.4542  1.182033\n",
      "\n",
      "[2290 rows x 4 columns] 0        84.860001\n",
      "1        85.570000\n",
      "2        85.129997\n",
      "3        84.769997\n",
      "4        86.779999\n",
      "           ...    \n",
      "2285    124.589996\n",
      "2286    124.330002\n",
      "2287    125.180000\n",
      "2288    124.489998\n",
      "2289    122.543800\n",
      "Name: GLD, Length: 2290, dtype: float64\n"
     ]
    }
   ],
   "source": [
    "print (X, Y)"
   ]
  },
  {
   "cell_type": "markdown",
   "id": "962dd09f",
   "metadata": {},
   "source": [
    "<h2> Splitting into Train data and Test Data"
   ]
  },
  {
   "cell_type": "code",
   "execution_count": 23,
   "id": "82a65012",
   "metadata": {},
   "outputs": [],
   "source": [
    "X_train, X_test, Y_train, Y_test = train_test_split(X, Y,test_size = 0.2, random_state = 2)"
   ]
  },
  {
   "cell_type": "markdown",
   "id": "27bb6efd",
   "metadata": {},
   "source": [
    "<h2> Model Training <h2>\n",
    "<h5> Model Forest Regression </h5>"
   ]
  },
  {
   "cell_type": "code",
   "execution_count": 24,
   "id": "1e6c358e",
   "metadata": {},
   "outputs": [],
   "source": [
    "regressor = RandomForestRegressor(n_estimators = 100)"
   ]
  },
  {
   "cell_type": "code",
   "execution_count": 25,
   "id": "4e20fbda",
   "metadata": {},
   "outputs": [
    {
     "data": {
      "text/plain": [
       "RandomForestRegressor()"
      ]
     },
     "execution_count": 25,
     "metadata": {},
     "output_type": "execute_result"
    }
   ],
   "source": [
    "# Training the model \n",
    "regressor.fit (X_train, Y_train)"
   ]
  },
  {
   "cell_type": "markdown",
   "id": "694e6bcb",
   "metadata": {},
   "source": [
    "<h2> Model Evaluation "
   ]
  },
  {
   "cell_type": "code",
   "execution_count": 26,
   "id": "9134844a",
   "metadata": {},
   "outputs": [],
   "source": [
    "# Prediction on Test Data\n",
    "test_data_prediction = regressor.predict(X_test)"
   ]
  },
  {
   "cell_type": "code",
   "execution_count": 27,
   "id": "8c509a5a",
   "metadata": {},
   "outputs": [
    {
     "name": "stdout",
     "output_type": "stream",
     "text": [
      "[168.46819917  81.97130001 115.79639976 127.64700093 120.67840115\n",
      " 154.71179775 150.35049739 126.22520035 117.57399885 125.99790038\n",
      " 116.51670119 171.61160076 142.18589874 167.58399857 115.19679975\n",
      " 117.39480064 138.22600312 170.11230094 159.5673025  156.98089875\n",
      " 155.00810037 125.23170039 175.53839911 157.25950319 125.08290046\n",
      "  93.89739968  77.7809002  120.68499999 119.09949939 167.47059952\n",
      "  88.2424006  125.25040046  91.16240049 117.60390039 120.97689897\n",
      " 137.0482015  115.30840137 115.24360068 146.78729945 107.14690088\n",
      " 104.11020233  87.1856977  126.46570035 118.02560019 153.22589935\n",
      " 119.61500014 108.39779961 108.01039831  93.17690077 127.04839802\n",
      "  75.39360033 113.7715995  121.13040036 111.12319924 118.90409883\n",
      " 120.77809924 158.82349973 167.72600049 147.0383964   85.87709856\n",
      "  94.21890031  86.80239904  90.73729988 119.09600061 126.44140066\n",
      " 127.43529937 170.43899989 122.28139933 117.30099886  99.02540033\n",
      " 168.82540181 143.3231986  132.04320194 121.20420178 121.07629934\n",
      " 119.56520045 114.30820184 118.29170053 106.99660084 127.93110063\n",
      " 114.01549991 107.91690008 117.0091006  119.47929875  89.10370067\n",
      "  88.3434986  146.86680236 127.23069988 113.43130009 110.34529802\n",
      " 108.18429872  77.704199   168.80290188 113.98639922 121.74759894\n",
      " 128.12280171 154.87499863  91.71079919 136.07520092 159.55680352\n",
      " 125.54710064 125.48630063 130.72050153 114.42000129 119.97770021\n",
      "  92.11529957 110.2701989  167.57169873 156.30489837 114.11109962\n",
      " 106.36950124  79.50549963 113.26010032 125.79880061 107.24789937\n",
      " 119.3759006  155.52990327 160.03469855 120.17759988 134.91850261\n",
      " 101.41219967 117.6148983  119.19250016 113.05670085 102.82889922\n",
      " 160.21459765  99.24590028 147.7812996  125.4565011  170.20479907\n",
      " 126.34199814 127.36149709 127.54820204 113.55649935 113.20640064\n",
      " 123.41389858 102.28659935  89.27409979 124.47309954 102.17099933\n",
      " 107.18029876 113.34030058 117.28970091  99.69469974 121.62640026\n",
      " 163.24829917  87.30929879 106.66469938 117.20880113 127.81750114\n",
      " 123.9074007   80.760099   120.49330038 157.75879807  87.78959952\n",
      " 110.36999904 118.81509921 172.33349859 103.00309872 105.44000048\n",
      " 122.46560042 158.12989788  87.86409826  93.30530076 113.08870024\n",
      " 176.82229892 114.4619996  119.28160013  94.56770093 125.60679993\n",
      " 166.12510126 114.66970068 116.83540156  88.36119855 149.06430081\n",
      " 120.38359949  89.58049976 112.68749995 117.57390038 118.84150121\n",
      "  88.18439963  94.00090005 117.15040034 118.45680212 120.36600068\n",
      " 127.01699788 122.00459991 149.94089968 164.56440076 118.53699962\n",
      " 120.40720157 151.4529001  118.38489923 172.25179905 106.37049912\n",
      " 104.99290124 149.33680083 113.66680104 124.78750102 147.38630027\n",
      " 119.59230121 115.36970046 112.75419981 113.34860237 141.17960111\n",
      " 117.74269775 102.99670045 115.85270139 103.67740194  99.13800051\n",
      " 117.25650066  90.55050032  91.62210014 153.29779929 102.65550002\n",
      " 155.11750086 114.5162015  138.71290132  90.09829819 115.4146997\n",
      " 114.81009973 122.9058004  121.84100093 165.23470148  92.93529952\n",
      " 135.31520101 121.35389946 120.79810092 104.49920021 143.13980279\n",
      " 121.48829915 116.79110042 113.74470142 127.61639692 122.70579952\n",
      " 125.72589915 121.2380005   86.90079899 132.29250149 144.88290239\n",
      "  92.76409975 159.47719919 159.89140341 126.17659936 164.56439952\n",
      " 108.72509977 110.32690051 103.48539789  94.35490066 128.33770337\n",
      " 107.08890067 163.41879935 121.64810005 131.93999999 130.82860151\n",
      " 160.63389939  90.04409822 174.42710133 127.31270013 127.01729809\n",
      "  86.36799916 124.51309945 150.23879739  89.67820009 106.95489937\n",
      " 109.03479976  84.03899905 135.77889976 154.55630262 139.79100303\n",
      "  73.88640022 152.27800063 126.16940026 126.75790002 127.51519871\n",
      " 108.51359944 156.46520061 114.39430134 117.02580159 125.41209956\n",
      " 154.21430156 121.19059969 156.42039946  92.95580049 125.52550123\n",
      " 125.81610043  87.82620035  92.13649908 126.19969935 128.27280311\n",
      " 113.29890062 117.80699752 120.9177003  127.73319716 120.08160126\n",
      " 136.7370006   93.9142997  119.87990025 113.308401    94.27079956\n",
      " 109.07309991  87.23039929 109.43419929  89.6204998   92.45190021\n",
      " 131.76890244 162.47259971  89.32300009 119.61060086 133.2521014\n",
      " 123.92239993 128.50410172 102.05099863  88.96679864 132.00170109\n",
      " 120.00100023 108.34449941 169.00610034 115.13700043  86.64799919\n",
      " 118.94880056  90.92009969 161.69720067 116.41050028 121.3949\n",
      " 159.9846974  120.22249927 112.96139945 108.38419851 126.7195999\n",
      "  76.20640023 103.01239976 128.20830314 121.7358994   92.6576\n",
      " 131.49910054 118.13750133 116.24559978 154.27390301 158.79760056\n",
      " 110.11339987 155.09169744 119.29810085 160.52820069 118.78330058\n",
      " 158.46289941 115.02839915 116.81560045 148.44059906 114.65340073\n",
      " 125.87579836 166.14239915 117.63040012 125.25629913 153.0923038\n",
      " 153.43010218 132.09139941 114.79360054 121.29420164 125.32220081\n",
      "  89.84540036 123.32249997 155.09450167 111.77750046 106.64849992\n",
      " 161.82130116 118.51769981 165.8229997  134.31760091 114.67490006\n",
      " 152.9799989  168.56989897 114.58469997 114.02790106 159.1858993\n",
      "  85.29379896 127.09380061 127.9376008  128.89409953 124.42720082\n",
      " 123.95260065  90.54100119 153.40360045  96.98739987 138.16429964\n",
      "  89.19289922 107.97450011 115.05590053 112.82830078 124.07279926\n",
      "  91.34749914 125.40010138 162.35029888 119.99179884 165.01370115\n",
      " 127.12719766 112.43890041 127.70979943  95.00659925  91.14089984\n",
      " 103.46289916 120.87069993  83.28559932 126.39369984 160.5729036\n",
      " 117.26760134 118.44020016 120.15030025 122.72459969 120.18890144\n",
      " 121.41900021 118.13450045 107.20329989 148.19849921 126.69139796\n",
      " 115.47700075  73.71690023 127.8322012  155.1097015  122.29559999\n",
      " 125.57890041  88.7807002  103.49239876 124.4316001  120.28660023\n",
      "  73.31070089 151.77659975 121.09990049 104.55350016  86.69229791\n",
      " 114.89479903 172.16659884 119.8732005  160.40539801 113.19879923\n",
      " 121.30040045 118.5885012   95.95419976 118.70190019 125.83150051\n",
      " 118.53059945  95.81670055 154.0354021  121.89630003 147.54260025\n",
      " 159.81420229 113.75610028 122.5774994  148.91599799 127.29040027\n",
      " 165.67170046 134.90140064 119.98279954 167.29369865 108.39599916\n",
      " 121.72239871 139.38210046 107.42569861]\n"
     ]
    }
   ],
   "source": [
    "print (test_data_prediction)"
   ]
  },
  {
   "cell_type": "code",
   "execution_count": 28,
   "id": "dc1ef22e",
   "metadata": {},
   "outputs": [
    {
     "name": "stdout",
     "output_type": "stream",
     "text": [
      "R Squarred Error :  0.9888104594531595\n"
     ]
    }
   ],
   "source": [
    "# R Squarred Error \n",
    "error_score = metrics.r2_score(Y_test,test_data_prediction)\n",
    "print (\"R Squarred Error : \", error_score)"
   ]
  },
  {
   "cell_type": "markdown",
   "id": "d79a1971",
   "metadata": {},
   "source": [
    "<h2> Compare the Actual Values and Predited Values in a Plot "
   ]
  },
  {
   "cell_type": "code",
   "execution_count": 29,
   "id": "c9b074c1",
   "metadata": {},
   "outputs": [],
   "source": [
    "Y_test = list (Y_test)"
   ]
  },
  {
   "cell_type": "code",
   "execution_count": 35,
   "id": "353d61fa",
   "metadata": {},
   "outputs": [
    {
     "data": {
      "image/png": "[encoded data removed]",
      "text/plain": [
       "<Figure size 432x288 with 1 Axes>"
      ]
     },
     "metadata": {
      "needs_background": "light"
     },
     "output_type": "display_data"
    }
   ],
   "source": [
    "plt.plot(Y_test, color ='blue', label='Actual Value')\n",
    "plt.plot(test_data_prediction, color ='green',label='Predicted Values')\n",
    "plt.title ('Actual VS Predicted Prices')\n",
    "plt.xlabel('Number of values')\n",
    "plt.ylabel('GLD Price')\n",
    "plt.legend()\n",
    "plt.show()"
   ]
  }
 ],
 "metadata": {
  "kernelspec": {
   "display_name": "Python 3 (ipykernel)",
   "language": "python",
   "name": "python3"
  },
  "language_info": {
   "codemirror_mode": {
    "name": "ipython",
    "version": 3
   },
   "file_extension": ".py",
   "mimetype": "text/x-python",
   "name": "python",
   "nbconvert_exporter": "python",
   "pygments_lexer": "ipython3",
   "version": "3.9.0"
  }
 },
 "nbformat": 4,
 "nbformat_minor": 5
}
